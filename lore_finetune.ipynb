{
  "cells": [
    {
      "cell_type": "markdown",
      "metadata": {},
      "source": [
        "# Automated Code Review Assistant (GARA)\n",
        "## Fine-tuning Mistral-7B with LoRA and GitHub CI/CD Integration\n",
        "\n",
        "This notebook covers the **Phase 2: LLM Fine-Tuning** and **Phase 3: GitHub Integration and Automation (Model Hosting)** aspects of the GARA project. It demonstrates how to fine-tune the Mistral-7B model using Low-Rank Adaptation (LoRA) on a custom dataset of code diffs and review comments, and then sets up a basic API for inference, ready for deployment.\n",
        "\n",
        "**Project Phases:**\n",
        "1.  **Data Collection & Preprocessing:** (Covered in `data_collection.py` / `preprocessing.py`)\n",
        "2.  **LLM Fine-Tuning:** (This notebook)\n",
        "3.  **GitHub Integration and Automation:** (This notebook - model hosting, API endpoint)\n",
        "4.  **Evaluation and Optimization:** (Subsequent steps)\n",
        "5.  **Documentation & Presentation:** (Overall project documentation)"
      ]
    },
    {
      "cell_type": "markdown",
      "metadata": {},
      "source": [
        "### 1. Setup and Library Installation\n",
        "First, we install all necessary libraries. `bitsandbytes` and `accelerate` are crucial for efficient 4-bit quantization and training on GPUs. `peft` enables LoRA fine-tuning, and `transformers` provides the core LLM functionalities. `pyngrok` and `uvicorn`/`fastapi` are for setting up the inference API."
      ]
    },
    {
      "cell_type": "code",
      "execution_count": null,
      "metadata": {},
      "outputs": [],
      "source": [
        "!pip install -q datasets accelerate peft\n",
        "!pip install -U bitsandbytes\n",
        "!pip install -U transformers\n",
        "!pip install -q pyngrok uvicorn fastapi nest-asyncio"
      ]
    },
    {
      "cell_type": "markdown",
      "metadata": {},
      "source": [
        "### 2. Hugging Face Authentication and Dataset Loading\n",
        "To access and push models on Hugging Face Hub, authentication is required. We also load our preprocessed `training_data.jsonl` dataset, which contains `prompt` and `completion` pairs (code diffs and their corresponding review comments)."
      ]
    },
    {
      "cell_type": "code",
      "execution_count": null,
      "metadata": {},
      "outputs": [],
      "source": [
        "from datasets import load_dataset\n",
        "from transformers import AutoTokenizer, AutoModelForCausalLM, BitsAndBytesConfig, TrainingArguments, Trainer, DataCollatorForLanguageModeling\n",
        "from peft import LoraConfig, get_peft_model, TaskType, PeftModel, PeftConfig, prepare_model_for_kbit_training\n",
        "import torch\n",
        "import os\n",
        "from huggingface_hub import login # Import login for interactive authentication\n",
        "\n",
        "# IMPORTANT: It's recommended to use notebook_login() for interactive Colab sessions\n",
        "# or set HF_TOKEN as an environment variable in your Colab secrets/environment setup.\n",
        "# For this notebook, we assume the token is set or will be prompted.\n",
        "\n",
        "# os.environ[\"HF_TOKEN\"] = \"hf_YOUR_TOKEN_HERE\" # You can uncomment and paste your token, but interactive login is safer.\n",
        "\n",
        "# This will prompt you to enter your Hugging Face token if not already logged in.\n",
        "# Ensure your token has 'write' permissions if you plan to push models.\n",
        "login()\n",
        "\n",
        "# Load the preprocessed dataset\n",
        "dataset = load_dataset(\"json\", data_files=\"training_data.jsonl\")['train']\n",
        "print(f\"Dataset loaded with {len(dataset)} examples.\")\n",
        "print(\"Sample example from dataset:\")\n",
        "print(dataset[0])"
      ]
    },
    {
      "cell_type": "markdown",
      "metadata": {},
      "source": [
        "### 3. Tokenization\n",
        "We load the tokenizer corresponding to our base model (Mistral-7B-Instruct-v0.2). A `tokenize` function is then defined to convert our `prompt` and `completion` text into numerical `input_ids` and `attention_mask` suitable for the model. The `labels` are set to `input_ids` for causal language modeling, where the model predicts the next token in the sequence."
      ]
    },
    {
      "cell_type": "code",
      "execution_count": null,
      "metadata": {},
      "outputs": [],
      "source": [
        "model_id = \"mistralai/Mistral-7B-Instruct-v0.2\"\n",
        "\n",
        "tokenizer = AutoTokenizer.from_pretrained(model_id)\n",
        "tokenizer.pad_token = tokenizer.eos_token\n",
        "\n",
        "def tokenize(example):\n",
        "    # Combine prompt and completion for training as a single sequence\n",
        "    combined = example['prompt'] + example['completion']\n",
        "    tokenized = tokenizer(\n",
        "        combined,\n",
        "        truncation=True,\n",
        "        padding='max_length',\n",
        "        max_length=512,\n",
        "    )\n",
        "    return {\n",
        "        'input_ids': tokenized['input_ids'],\n",
        "        'attention_mask': tokenized['attention_mask'],\n",
        "        'labels': tokenized['input_ids'],\n",
        "    }\n",
        "\n",
        "# Apply the tokenization function to the entire dataset\n",
        "tokenized_dataset = dataset.map(tokenize, batched=True) \n",
        "print(f\"Tokenized dataset size: {len(tokenized_dataset)}\")\n",
        "print(\"Sample tokenized example (first 10 input_ids):\")\n",
        "print(tokenized_dataset[0]['input_ids'][:10])"
      ]
    },
    {
      "cell_type": "markdown",
      "metadata": {},
      "source": [
        "### 4. Model Loading and LoRA Configuration\n",
        "We load the base Mistral-7B model with 4-bit quantization using `bitsandbytes` to reduce memory footprint and enable training on Colab's GPUs. The model is then prepared for LoRA (Low-Rank Adaptation) training, which is a parameter-efficient fine-tuning technique."
      ]
    },
    {
      "cell_type": "code",
      "execution_count": null,
      "metadata": {},
      "outputs": [],
      "source": [
        "# Configure 4-bit quantization with BitsAndBytes\n",
        "bnb_config = BitsAndBytesConfig(\n",
        "    load_in_4bit=True, \n",
        "    bnb_4bit_quant_type=\"nf4\",\n",
        "    bnb_4bit_use_double_quant=True,\n",
        "    bnb_4bit_compute_dtype=torch.bfloat16\n",
        ")\n",
        "\n",
        "# Load the base pre-trained model with quantization\n",
        "model = AutoModelForCausalLM.from_pretrained(\n",
        "    model_id,\n",
        "    quantization_config=bnb_config,\n",
        "    device_map=\"auto\"\n",
        ")\n",
        "\n",
        "# Prepare the model for k-bit training (important for LoRA with quantization)\n",
        "model = prepare_model_for_kbit_training(model)\n",
        "\n",
        "# LoRA configuration\n",
        "lora_config = LoraConfig(\n",
        "    r=8,\n",
        "    lora_alpha=16,\n",
        "    target_modules=[\"q_proj\", \"v_proj\"],\n",
        "    lora_dropout=0.1,\n",
        "    bias=\"none\",\n",
        "    task_type=TaskType.CAUSAL_LM\n",
        ")\n",
        "\n",
        "model = get_peft_model(model, lora_config)\n",
        "\n",
        "print(\"Model loaded and prepared for LoRA training:\")\n",
        "model.print_trainable_parameters() "
      ]
    },
    {
      "cell_type": "markdown",
      "metadata": {},
      "source": [
        "### 5. Fine-tuning with Hugging Face Trainer\n",
        "We define `TrainingArguments` for our fine-tuning process, specifying parameters like batch size, number of epochs, logging, and saving strategies. The `Trainer` class then orchestrates the fine-tuning, optimizing the LoRA adapter weights."
      ]
    },
    {
      "cell_type": "code",
      "execution_count": null,
      "metadata": {},
      "outputs": [],
      "source": [
        "# Training arguments\n",
        "training_args = TrainingArguments(\n",
        "    output_dir=\"outputs\", \n",
        "    per_device_train_batch_size=2, \n",
        "    gradient_accumulation_steps=4, \n",
        "    num_train_epochs=1, \n",
        "    logging_dir=\"logs\", \n",
        "    save_total_limit=1, \n",
        "    save_steps=20, \n",
        "    logging_steps=5, \n",
        "    report_to=\"none\", \n",
        "    fp16=True\n",
        ")\n",
        "\n",
        "# Initialize the Trainer\n",
        "trainer = Trainer(\n",
        "    model=model,\n",
        "    args=training_args,\n",
        "    train_dataset=tokenized_dataset,\n",
        "    tokenizer=tokenizer,\n",
        "    data_collator=DataCollatorForLanguageModeling(tokenizer, mlm=False) \n",
        ")\n",
        "\n",
        "print(\"Starting fine-tuning...\")\n",
        "trainer.train()\n",
        "print(\"Fine-tuning complete!\")"
      ]
    },
    {
      "cell_type": "markdown",
      "metadata": {},
      "source": [
        "### 6. Saving and Pushing the Fine-tuned Adapter to Hugging Face Hub\n",
        "After fine-tuning, we save the LoRA adapter weights and the tokenizer. These are then pushed to the Hugging Face Hub, making the fine-tuned model accessible for inference and future use."
      ]
    },
    {
      "cell_type": "code",
      "execution_count": null,
      "metadata": {},
      "outputs": [],
      "source": [
        "model.save_pretrained(\"lora-adapter\")\n",
        "tokenizer.save_pretrained(\"lora-adapter\")\n",
        "print(\"LoRA adapter and tokenizer saved locally to 'lora-adapter' directory.\")\n",
        "\n",
        "# Push the fine-tuned adapter and tokenizer to Hugging Face Hub\n",
        "# Ensure your Hugging Face token has 'write' permissions.\n",
        "try:\n",
        "    # Replace 'ishaanj91' with your Hugging Face username or organization name\n",
        "    hub_model_name = \"ishaanj91/mistral-code-review-lora\"\n",
        "    model.push_to_hub(hub_model_name, use_auth_token=True)\n",
        "    tokenizer.push_to_hub(hub_model_name, use_auth_token=True)\n",
        "    print(f\"Successfully pushed LoRA adapter and tokenizer to {hub_model_name} on Hugging Face Hub.\")\n",
        "except Exception as e:\n",
        "    print(f\"Failed to push to Hugging Face Hub. Error: {e}\")\n",
        "    print(\"Please ensure your Hugging Face token has 'write' permissions and you have access to the repository.\")"
      ]
    },
    {
      "cell_type": "markdown",
      "metadata": {},
      "source": [
        "### 7. Setting up the Inference API (FastAPI with ngrok)\n",
        "To integrate our fine-tuned model into CI/CD workflows, we need an API endpoint. FastAPI is used to create a simple web server, and `ngrok` is employed to expose this local server to the internet, providing a temporary public URL for testing."
      ]
    },
    {
      "cell_type": "code",
      "execution_count": null,
      "metadata": {},
      "outputs": [],
      "source": [
        "from fastapi import FastAPI\n",
        "from pydantic import BaseModel\n",
        "from transformers import AutoTokenizer, AutoModelForCausalLM # Ensure AutoModelForCausalLM is imported\n",
        "from peft import PeftModel\n",
        "import torch\n",
        "\n",
        "app = FastAPI(title=\"GARA Code Review API\")\n",
        "\n",
        "base_model_id = \"mistralai/Mistral-7B-Instruct-v0.2\"\n",
        "lora_adapter_id = \"ishaanj91/mistral-code-review-lora\" # Replace with your actual repo name\n",
        "\n",
        "print(f\"Loading base model: {base_model_id}...\")\n",
        "base_model = AutoModelForCausalLM.from_pretrained(\n",
        "    base_model_id,\n",
        "    device_map=\"auto\",\n",
        "    load_in_4bit=True \n",
        ")\n",
        "print(\"Base model loaded.\")\n",
        "\n",
        "print(f\"Loading LoRA adapter from: {lora_adapter_id}...\")\n",
        "model = PeftModel.from_pretrained(base_model, lora_adapter_id)\n",
        "print(\"LoRA adapter loaded.\")\n",
        "\n",
        "print(f\"Loading tokenizer from: {lora_adapter_id}...\")\n",
        "tokenizer = AutoTokenizer.from_pretrained(lora_adapter_id)\n",
        "print(\"Tokenizer loaded.\")\n",
        "\n",
        "class ReviewRequest(BaseModel):\n",
        "    diff: str\n",
        "\n",
        "@app.post(\"/review\")\n",
        "def review_code(request: ReviewRequest):\n",
        "    prompt = f\"Review this code diff:\\n\\n{request.diff}\\n\\nComment:\"\n",
        "    \n",
        "    # Tokenize the prompt and move to GPU\n",
        "    inputs = tokenizer(prompt, return_tensors=\"pt\").to(model.device) # Use model.device for consistency\n",
        "    \n",
        "    # Generate the review from the model\n",
        "    output = model.generate(**inputs, max_new_tokens=300, temperature=0.7, do_sample=True)\n",
        "    \n",
        "    # Decode the generated tokens back to human-readable text\n",
        "    review = tokenizer.decode(output[0], skip_special_tokens=True)\n",
        "    \n",
        "    # The generated output will contain the prompt itself, so we need to extract only the completion\n",
        "    # Find the start of the completion by looking for the 'Comment:' part of the prompt\n",
        "    if 'Comment:' in review:\n",
        "        review = review.split('Comment:', 1)[1].strip() # Split once and take the part after 'Comment:'\n",
        "    \n",
        "    return {\"review\": review}"
      ]
    },
    {
      "cell_type": "markdown",
      "metadata": {},
      "source": [
        "### 8. Exposing the API with ngrok\n",
        "Finally, we use `ngrok` to create a public URL for our FastAPI application running on Colab. This allows external services (like GitHub Actions) to send review requests to our model."
      ]
    },
    {
      "cell_type": "code",
      "execution_count": null,
      "metadata": {},
      "outputs": [],
      "source": [
        "from pyngrok import ngrok\n",
        "import nest_asyncio\n",
        "import uvicorn\n",
        "import threading\n",
        "\n",
        "# Apply nest_asyncio to allow running asyncio event loops within Jupyter/Colab\n",
        "nest_asyncio.apply()\n",
        "\n",
        "# IMPORTANT: Set your ngrok authentication token here\n",
        "# You can get one from https://ngrok.com/signup\n",
        "# ngrok.set_auth_token(\"YOUR_NGROK_AUTH_TOKEN_HERE\") # Uncomment and replace if you haven't set it globally\n",
        "\n",
        "# Define the port for our FastAPI application\n",
        "PORT = 7860\n",
        "public_url = ngrok.connect(PORT)\n",
        "print(f\"Your FastAPI application is publicly accessible at: {public_url}\")\n",
        "\n",
        "# Start the Uvicorn server in a separate thread\n",
        "# This allows the Colab cell to remain responsive while the server runs\n",
        "uvicorn_thread = threading.Thread(\n",
        "    target=uvicorn.run,\n",
        "    args=(app,), # Pass the FastAPI app object directly\n",
        "    kwargs={\"host\": \"0.0.0.0\", \"port\": PORT}\n",
        ")\n",
        "uvicorn_thread.start()\n",
        "\n",
        "print(f\"FastAPI app is running locally on http://0.0.0.0:{PORT}\")\n",
        "print(\"Visit the public URL to interact with your API (e.g., append /docs for Swagger UI).\")\n"
      ]
    }
  ],
  "metadata": {
    "kernelspec": {
      "display_name": "Python 3",
      "name": "python3"
    },
    "language_info": {
      "name": "python"
    }
  },
  "nbformat": 4,
  "nbformat_minor": 2
}
